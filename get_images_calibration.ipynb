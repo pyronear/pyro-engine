{
 "cells": [
  {
   "cell_type": "code",
   "execution_count": 1,
   "id": "e97d4ef9",
   "metadata": {},
   "outputs": [],
   "source": [
    "import time\n",
    "from pathlib import Path\n",
    "from typing import Optional\n",
    "from reolink_api_client import ReolinkAPIClient\n",
    "import requests\n"
   ]
  },
  {
   "cell_type": "code",
   "execution_count": 2,
   "id": "2ae5349a",
   "metadata": {},
   "outputs": [],
   "source": [
    "# ===========================\n",
    "# CONFIGURATION\n",
    "# ===========================\n",
    "PI_IP = \"192.168.255.26\"\n",
    "API_BASE = f\"http://{PI_IP}:8081\"\n",
    "\n",
    "\n",
    "INITIAL_PRESET = 20\n",
    "FIRST_SAVE_POSE = 30\n",
    "STEP_DEGREES = 20\n",
    "TOTAL_DEGREES = 360\n",
    "DIRECTION = \"Right\"   # \"Left\" or \"Right\"\n",
    "SPEED_LEVEL = 3       # valid 1..5\n",
    "SLEEP_AFTER_MOVE = 5  # seconds between moves\n",
    "IMAGE_WIDTH = 1280"
   ]
  },
  {
   "cell_type": "code",
   "execution_count": 3,
   "id": "f90a710c",
   "metadata": {},
   "outputs": [
    {
     "name": "stdout",
     "output_type": "stream",
     "text": [
      "Found 2 camera(s): ['169.254.40.1', '169.254.40.3']\n"
     ]
    }
   ],
   "source": [
    "# ===========================\n",
    "# INITIALIZE CLIENT\n",
    "# ===========================\n",
    "client = ReolinkAPIClient(API_BASE)\n",
    "\n",
    "# Get list of cameras dynamically\n",
    "try:\n",
    "    camera_data = client.list_cameras()\n",
    "    camera_ips = camera_data.get(\"camera_ips\", [])\n",
    "    print(f\"Found {len(camera_ips)} camera(s): {camera_ips}\")\n",
    "except Exception as e:\n",
    "    raise RuntimeError(f\"Failed to list cameras: {e}\")"
   ]
  },
  {
   "cell_type": "code",
   "execution_count": 4,
   "id": "429dd805",
   "metadata": {},
   "outputs": [],
   "source": [
    "# ===========================\n",
    "# HELPERS\n",
    "# ===========================\n",
    "def set_preset(client: ReolinkAPIClient, camera_ip: str, idx: Optional[int] = None):\n",
    "    params = {\"camera_ip\": camera_ip}\n",
    "    if idx is not None:\n",
    "        params[\"idx\"] = str(idx)\n",
    "    resp = requests.post(f\"{client.base_url}/control/preset/set\", params=params, timeout=15)\n",
    "    resp.raise_for_status()\n",
    "    return resp.json()\n",
    "\n",
    "\n",
    "def ensure_dirs_for_camera(camera_ip: str):\n",
    "    root_dir = Path(f\"captures/{PI_IP}\") / camera_ip\n",
    "    out_dir = root_dir / \"images\"\n",
    "    out_dir.mkdir(parents=True, exist_ok=True)\n",
    "    return root_dir, out_dir\n",
    "\n",
    "\n",
    "def capture_and_save(client: ReolinkAPIClient, camera_ip: str, out_dir: Path, pose_id: int, width: int = 1280):\n",
    "    # capture_image now supports width parameter\n",
    "    img = client.capture_image(camera_ip, width=width)  # returns PIL.Image\n",
    "    p = out_dir / f\"pose_{pose_id:02d}.jpg\"\n",
    "    img.save(p, quality=95)\n",
    "    print(f\"Saved {p} ({width}px wide)\")"
   ]
  },
  {
   "cell_type": "code",
   "execution_count": 5,
   "id": "c111940d",
   "metadata": {},
   "outputs": [
    {
     "name": "stdout",
     "output_type": "stream",
     "text": [
      "\n",
      "========================================\n",
      "Starting sweep for 169.254.40.1\n",
      "Stopping patrol if running\n"
     ]
    },
    {
     "ename": "KeyboardInterrupt",
     "evalue": "",
     "output_type": "error",
     "traceback": [
      "\u001b[31m---------------------------------------------------------------------------\u001b[39m",
      "\u001b[31mKeyboardInterrupt\u001b[39m                         Traceback (most recent call last)",
      "\u001b[36mCell\u001b[39m\u001b[36m \u001b[39m\u001b[32mIn[5]\u001b[39m\u001b[32m, line 15\u001b[39m\n\u001b[32m     13\u001b[39m \u001b[38;5;28;01mtry\u001b[39;00m:\n\u001b[32m     14\u001b[39m     client.stop_patrol(cam_ip)\n\u001b[32m---> \u001b[39m\u001b[32m15\u001b[39m     \u001b[43mtime\u001b[49m\u001b[43m.\u001b[49m\u001b[43msleep\u001b[49m\u001b[43m(\u001b[49m\u001b[32;43m2\u001b[39;49m\u001b[43m)\u001b[49m\n\u001b[32m     16\u001b[39m \u001b[38;5;28;01mexcept\u001b[39;00m \u001b[38;5;167;01mException\u001b[39;00m \u001b[38;5;28;01mas\u001b[39;00m e:\n\u001b[32m     17\u001b[39m     \u001b[38;5;28mprint\u001b[39m(\u001b[33mf\u001b[39m\u001b[33m\"\u001b[39m\u001b[33mWarning, could not stop patrol, \u001b[39m\u001b[38;5;132;01m{\u001b[39;00me\u001b[38;5;132;01m}\u001b[39;00m\u001b[33m\"\u001b[39m)\n",
      "\u001b[31mKeyboardInterrupt\u001b[39m: "
     ]
    }
   ],
   "source": [
    "\n",
    "# ===========================\n",
    "# RUN SWEEP FOR EACH CAMERA\n",
    "# ===========================\n",
    "steps = int(TOTAL_DEGREES // STEP_DEGREES)\n",
    "\n",
    "for cam_ip in camera_ips:\n",
    "    print(\"\\n\" + \"=\" * 40)\n",
    "    print(f\"Starting sweep for {cam_ip}\")\n",
    "    root_dir, out_dir = ensure_dirs_for_camera(cam_ip)\n",
    "\n",
    "    try:\n",
    "        print(\"Stopping patrol if running\")\n",
    "        try:\n",
    "            client.stop_patrol(cam_ip)\n",
    "            time.sleep(2)\n",
    "        except Exception as e:\n",
    "            print(f\"Warning, could not stop patrol, {e}\")\n",
    "\n",
    "        print(f\"Moving to preset {INITIAL_PRESET}\")\n",
    "        client.move_camera(cam_ip, pose_id=INITIAL_PRESET, speed=SPEED_LEVEL)\n",
    "        time.sleep(2)\n",
    "\n",
    "        current_pose = FIRST_SAVE_POSE\n",
    "        print(f\"Setting dynamic preset {current_pose}\")\n",
    "        try:\n",
    "            set_preset(client, cam_ip, idx=current_pose)\n",
    "        except Exception as e:\n",
    "            print(f\"Warning, set_preset failed at pose {current_pose}, {e}\")\n",
    "\n",
    "        print(\"Capturing initial frame\")\n",
    "        capture_and_save(client, cam_ip, out_dir, current_pose, width=IMAGE_WIDTH)\n",
    "\n",
    "        for i in range(steps):\n",
    "            print(f\"Step {i + 1}/{steps} rotate {STEP_DEGREES} degrees {DIRECTION}\")\n",
    "            move_info = client.move_camera(cam_ip, direction=DIRECTION, degrees=STEP_DEGREES, speed=SPEED_LEVEL)\n",
    "            print(move_info)\n",
    "            #time.sleep(SLEEP_AFTER_MOVE)\n",
    "\n",
    "            current_pose += 1\n",
    "            print(f\"Setting dynamic preset {current_pose}\")\n",
    "            try:\n",
    "                set_preset(client, cam_ip, idx=current_pose)\n",
    "            except Exception as e:\n",
    "                print(f\"Warning, set_preset failed at pose {current_pose}, {e}\")\n",
    "\n",
    "            capture_and_save(client, cam_ip, out_dir, current_pose, width=IMAGE_WIDTH)\n",
    "\n",
    "        print(f\"Sweep complete for {cam_ip}\")\n",
    "\n",
    "    except Exception as e:\n",
    "        print(f\"Error while sweeping {cam_ip}, {e}\")\n",
    "        continue"
   ]
  },
  {
   "cell_type": "code",
   "execution_count": null,
   "id": "8bf6d7b6",
   "metadata": {},
   "outputs": [],
   "source": []
  }
 ],
 "metadata": {
  "kernelspec": {
   "display_name": ".venv",
   "language": "python",
   "name": "python3"
  },
  "language_info": {
   "codemirror_mode": {
    "name": "ipython",
    "version": 3
   },
   "file_extension": ".py",
   "mimetype": "text/x-python",
   "name": "python",
   "nbconvert_exporter": "python",
   "pygments_lexer": "ipython3",
   "version": "3.11.12"
  }
 },
 "nbformat": 4,
 "nbformat_minor": 5
}
